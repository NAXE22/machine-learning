{
  "nbformat": 4,
  "nbformat_minor": 0,
  "metadata": {
    "colab": {
      "provenance": [],
      "authorship_tag": "ABX9TyN6i5V6ehvXesMDrnKAMZSi",
      "include_colab_link": true
    },
    "kernelspec": {
      "name": "python3",
      "display_name": "Python 3"
    },
    "language_info": {
      "name": "python"
    }
  },
  "cells": [
    {
      "cell_type": "markdown",
      "metadata": {
        "id": "view-in-github",
        "colab_type": "text"
      },
      "source": [
        "<a href=\"https://colab.research.google.com/github/NAXE22/machine-learning/blob/main/text_summarisation.ipynb\" target=\"_parent\"><img src=\"https://colab.research.google.com/assets/colab-badge.svg\" alt=\"Open In Colab\"/></a>"
      ]
    },
    {
      "cell_type": "markdown",
      "source": [],
      "metadata": {
        "id": "I5HovY20EGCr"
      }
    },
    {
      "cell_type": "markdown",
      "source": [
        "extractive text summarisation using spacy"
      ],
      "metadata": {
        "id": "QGt0SIaUELfs"
      }
    },
    {
      "cell_type": "code",
      "source": [
        "import spacy\n",
        "from spacy.lang.en.stop_words import STOP_WORDS\n",
        "from string import punctuation\n",
        "from collections import Counter"
      ],
      "metadata": {
        "id": "-fWC_qP3ERSg"
      },
      "execution_count": 23,
      "outputs": []
    },
    {
      "cell_type": "markdown",
      "source": [
        "tokenisation of words and sentences"
      ],
      "metadata": {
        "id": "LNs2vkLFGI87"
      }
    },
    {
      "cell_type": "code",
      "source": [
        "\n",
        "nlp= spacy.load('en_core_web_sm')\n",
        "\n",
        "def spacy_summarizer(raw_text,top_n=3):\n",
        "\n",
        "    doc= nlp(raw_text)\n",
        "\n",
        "    stop_words=nlp.Defaults.stop_words\n",
        "    word_frequencies= Counter()\n",
        "#tokenisation of sentence\n",
        "    for token in doc:\n",
        "      if token.text.lower() not in stop_words and token.text.isalpha():\n",
        "        word_frequencies[token.text.lower()]+=1\n",
        "\n",
        "    #normalisation of frequncies\n",
        "    max_frequency= max(word_frequencies.values())\n",
        "    for word in word_frequencies:\n",
        "      word_frequencies[word]=word_frequencies[word]/max_frequency\n",
        "\n",
        "    #scoring of sentence\n",
        "    sentence_scores={}\n",
        "    for sentence in doc.sents:\n",
        "      score=0\n",
        "      for word in sentence:\n",
        "        if word.text.lower() in word_frequencies:\n",
        "          score += word_frequencies[word.text.lower()]\n",
        "      sentence_scores[sentence]=score\n",
        "\n",
        "    #sort sentences by score\n",
        "    top_sentences= sorted(sentence_scores.items(),key=lambda item: item[1], reverse=True)[:top_n]\n",
        "    summary =' '.join([sent.text.strip() for sent, score in top_sentences])\n",
        "    return summary\n",
        "\n",
        "\n",
        "\n",
        ""
      ],
      "metadata": {
        "id": "68yV6n-8EeOZ"
      },
      "execution_count": 24,
      "outputs": []
    },
    {
      "cell_type": "markdown",
      "source": [
        "testing the model"
      ],
      "metadata": {
        "id": "Yfxiv60YJ08z"
      }
    },
    {
      "cell_type": "code",
      "source": [
        "raw_text= \"\"\"\n",
        "\n",
        "Artificial Intelligence (AI) is no longer a futuristic concept, but a present-day reality that is rapidly transforming industries and societies around the world. AI refers to the development of computer systems capable of performing tasks that typically require human intelligence. These tasks include reasoning, problem-solving, language understanding, and learning. Over the last decade, advancements in AI technologies have revolutionized various sectors, including healthcare, finance, retail, and transportation.\n",
        "\n",
        "In healthcare, AI is enhancing the accuracy of diagnoses and improving treatment outcomes. Machine learning algorithms, a subset of AI, are being used to analyze medical data, such as X-rays, MRIs, and genetic information, to detect diseases early and recommend personalized treatment plans. AI-powered chatbots and virtual assistants are also being used in telemedicine to provide immediate support to patients, streamlining healthcare delivery.\n",
        "\n",
        "The financial sector is experiencing a major shift due to AI, as algorithms are helping to automate trading, risk assessment, and fraud detection. AI is also improving customer service through chatbots, which can handle customer inquiries 24/7, reducing the need for human intervention. In retail, AI is optimizing inventory management, personalizing customer experiences, and enabling more efficient supply chains. Recommendation systems, like those used by Amazon and Netflix, rely on AI to suggest products and media based on user preferences.\n",
        "\n",
        "Transportation is another area where AI is making significant strides. Autonomous vehicles, powered by AI, are being tested on roads worldwide. These vehicles have the potential to reduce traffic accidents, increase fuel efficiency, and transform the way people commute. AI is also being used in logistics to optimize delivery routes and reduce fuel consumption.\n",
        "\n",
        "Despite the many benefits, the rise of AI also brings challenges. One of the most significant concerns is the potential for job displacement, as machines take over tasks traditionally performed by humans. Automation in manufacturing, retail, and other sectors could lead to unemployment for workers in these industries. Furthermore, AI systems are not immune to biases, which could result in unfair decisions, particularly in areas like hiring, lending, and law enforcement.\n",
        "\n",
        "Ethical considerations surrounding AI, such as data privacy and accountability, are also important topics of discussion. As AI systems become more integrated into daily life, it is crucial to ensure that they are developed and deployed in a way that is transparent, fair, and aligned with societal values. The challenge of regulating AI technologies is another pressing issue, as policymakers struggle to keep up with the rapid pace of technological change.\n",
        "\n",
        "In conclusion, AI has the potential to greatly enhance various industries and improve lives. However, it also brings forth a range of challenges that need to be addressed carefully. By fostering responsible AI development and ensuring ethical standards, society can harness the full potential of AI while mitigating its risks.\n",
        "\n",
        "---\n",
        "\n",
        " \"\"\"\n",
        "summary = spacy_summarizer(raw_text,top_n=3)\n",
        "print(\"summary of the text is:\",summary)"
      ],
      "metadata": {
        "colab": {
          "base_uri": "https://localhost:8080/"
        },
        "id": "3a0dT6eCLdgQ",
        "outputId": "b02dc03c-b431-4113-bf5b-07b7bf580e6b"
      },
      "execution_count": 25,
      "outputs": [
        {
          "output_type": "stream",
          "name": "stdout",
          "text": [
            "summary of the text is: By fostering responsible AI development and ensuring ethical standards, society can harness the full potential of AI while mitigating its risks. Machine learning algorithms, a subset of AI, are being used to analyze medical data, such as X-rays, MRIs, and genetic information, to detect diseases early and recommend personalized treatment plans. AI refers to the development of computer systems capable of performing tasks that typically require human intelligence.\n"
          ]
        }
      ]
    }
  ]
}